{
 "cells": [
  {
   "cell_type": "code",
   "execution_count": 1,
   "metadata": {
    "collapsed": false
   },
   "outputs": [],
   "source": [
    "import torch\n",
    "from torch import nn\n",
    "from torch.autograd import Variable\n",
    "import matplotlib.pyplot as plt\n",
    "%matplotlib inline"
   ]
  },
  {
   "cell_type": "code",
   "execution_count": 2,
   "metadata": {
    "collapsed": false
   },
   "outputs": [],
   "source": [
    "import numpy as np\n",
    "from numpy.random import multivariate_normal\n",
    "def getxy(x=0,y=0, num=1000,  std=0.5):\n",
    "    return multivariate_normal(np.array([x,y]), \n",
    "                               np.array([[0,std],[std,0]]), num)\n"
   ]
  },
  {
   "cell_type": "code",
   "execution_count": 3,
   "metadata": {
    "collapsed": false
   },
   "outputs": [
    {
     "name": "stderr",
     "output_type": "stream",
     "text": [
      "/home/arun/py/tf3.5/lib/python3.5/site-packages/ipykernel/__main__.py:5: RuntimeWarning: covariance is not positive-semidefinite.\n"
     ]
    },
    {
     "data": {
      "image/png": "[encoded data removed]",
      "text/plain": [
       "<matplotlib.figure.Figure at 0x7fe3a72b4eb8>"
      ]
     },
     "metadata": {},
     "output_type": "display_data"
    }
   ],
   "source": [
    "pos = []\n",
    "xy = getxy(0, 0.5, 100, 0.03)\n",
    "plt.plot(xy[:,0],xy[:,1], 'ro')\n",
    "pos.append(xy)\n",
    "xy = getxy(0, 3.0, 100, 0.03)\n",
    "plt.plot(xy[:,0],xy[:,1], 'ro')\n",
    "pos.append(xy)\n",
    "xy = getxy(2.25, 1.5, 800, 0.1)\n",
    "plt.plot(xy[:,0],xy[:,1], 'ro')\n",
    "pos.append(xy)\n",
    "pos = np.concatenate(pos)\n",
    "\n",
    "neg = []\n",
    "xy = getxy(1.0, 0.75, 800, 0.03)\n",
    "plt.plot(xy[:,0],xy[:,1], 'bo')\n",
    "neg.append(xy)\n",
    "xy = getxy(1.0, 1.5, 100, 0.03)\n",
    "plt.plot(xy[:,0],xy[:,1], 'bo')\n",
    "neg.append(xy)\n",
    "xy = getxy(1.0, 2.5, 100, 0.03)\n",
    "plt.plot(xy[:,0],xy[:,1], 'bo')\n",
    "neg.append(xy)\n",
    "neg = np.concatenate(neg)"
   ]
  },
  {
   "cell_type": "code",
   "execution_count": 144,
   "metadata": {
    "collapsed": false
   },
   "outputs": [],
   "source": [
    "posy = np.ones((pos.shape[0],1))\n",
    "negy = -1 * np.ones((neg.shape[0],1))\n",
    "posxy = np.concatenate([pos,posy],1)\n",
    "negxy = np.concatenate([neg,negy],1)\n",
    "xy = np.concatenate([posxy,negxy],0)"
   ]
  },
  {
   "cell_type": "code",
   "execution_count": 145,
   "metadata": {
    "collapsed": false
   },
   "outputs": [],
   "source": [
    "from random import shuffle, seed\n",
    "l = (list(range(len(xy))))\n",
    "seed(1)\n",
    "shuffle(l)\n",
    "xy = xy[l]\n",
    "XY = torch.from_numpy(xy)"
   ]
  },
  {
   "cell_type": "code",
   "execution_count": 146,
   "metadata": {
    "collapsed": false
   },
   "outputs": [],
   "source": [
    "class HingeLoss(nn.Module):\n",
    "    def __init__(self, margin=0):\n",
    "        super(HingeLoss, self).__init__()\n",
    "        self.margin = margin\n",
    "\n",
    "    def forward(self, y_pred, y):\n",
    "        return torch.clamp(1-y*(y_pred-self.margin),0).sum()/len(y)\n"
   ]
  },
  {
   "cell_type": "code",
   "execution_count": 147,
   "metadata": {
    "collapsed": false
   },
   "outputs": [],
   "source": [
    "num_epochs = 600\n",
    "learning_rate = 0.1\n",
    "\n",
    "from torch import nn\n",
    "from torch.autograd import Variable\n",
    "\n",
    "#model = nn.Sequential(nn.Linear(2,1),nn.Sigmoid())\n",
    "model = nn.Sequential(nn.Linear(2,1), nn.Tanh())\n",
    "#model.weight.data[0][0] = 2\n",
    "# Loss and Optimizer\n",
    "criterion = HingeLoss()#nn.SoftMarginLoss()\n",
    "optimizer = torch.optim.SGD(model.parameters(), lr=learning_rate)  "
   ]
  },
  {
   "cell_type": "code",
   "execution_count": 148,
   "metadata": {
    "collapsed": false,
    "scrolled": true
   },
   "outputs": [
    {
     "name": "stdout",
     "output_type": "stream",
     "text": [
      "1.0394988059997559\n",
      "0.27155566215515137\n",
      "0.247219979763031\n",
      "0.23795382678508759\n",
      "0.23286756873130798\n",
      "0.22958587110042572\n",
      "0.22726355493068695\n",
      "0.22551846504211426\n",
      "0.22415059804916382\n",
      "0.22304432094097137\n",
      "0.22212769091129303\n",
      "0.2213534712791443\n",
      "0.22068919241428375\n",
      "0.22011180222034454\n",
      "0.21960437297821045\n",
      "0.2191542685031891\n",
      "0.2187517285346985\n",
      "0.21838915348052979\n",
      "0.21806058287620544\n",
      "0.2177611142396927\n",
      "0.21748685836791992\n",
      "0.2172345370054245\n",
      "0.21700149774551392\n",
      "0.2167854607105255\n",
      "0.21658451855182648\n",
      "0.21639707684516907\n",
      "0.21622173488140106\n",
      "0.21605727076530457\n",
      "0.21590261161327362\n",
      "0.2157568633556366\n",
      "0.21561922132968903\n",
      "0.2154889702796936\n",
      "0.21536551415920258\n",
      "0.21524833142757416\n",
      "0.21513685584068298\n",
      "0.2150307297706604\n",
      "0.2149295061826706\n",
      "0.21483279764652252\n",
      "0.2147403359413147\n",
      "0.21465186774730682\n",
      "0.21456694602966309\n",
      "0.21448563039302826\n",
      "0.21440738439559937\n",
      "0.21433228254318237\n",
      "0.21425989270210266\n",
      "0.2141902893781662\n",
      "0.21412307024002075\n",
      "0.2140582948923111\n",
      "0.21399569511413574\n",
      "0.21393539011478424\n",
      "0.21387697756290436\n",
      "0.21382039785385132\n",
      "0.21376574039459229\n",
      "0.21371273696422577\n",
      "0.2136612981557846\n",
      "0.21361154317855835\n",
      "0.21356314420700073\n",
      "0.21351607143878937\n",
      "0.21347054839134216\n",
      "0.2134261578321457\n",
      "0.21338307857513428\n",
      "0.21334105730056763\n",
      "0.21330030262470245\n",
      "0.2132604420185089\n",
      "0.21322175860404968\n",
      "0.2131839096546173\n",
      "0.2131471186876297\n",
      "0.2131112664937973\n",
      "0.2130761742591858\n",
      "0.21304194629192352\n",
      "0.21300853788852692\n",
      "0.21297596395015717\n",
      "0.2129441201686859\n",
      "0.21291285753250122\n",
      "0.21288245916366577\n",
      "0.21285240352153778\n",
      "0.21282316744327545\n",
      "0.21279488503932953\n",
      "0.21276691555976868\n",
      "0.21273934841156006\n",
      "0.21271257102489471\n",
      "0.21268659830093384\n",
      "0.212661013007164\n",
      "0.21263571083545685\n",
      "0.2126108705997467\n",
      "0.21258677542209625\n",
      "0.21256327629089355\n",
      "0.21254000067710876\n",
      "0.2125169336795807\n",
      "0.2124941349029541\n",
      "0.21247228980064392\n",
      "0.21245084702968597\n",
      "0.21242959797382355\n",
      "0.21240858733654022\n",
      "0.2123878002166748\n",
      "0.21236757934093475\n",
      "0.21234795451164246\n",
      "0.21232867240905762\n",
      "0.2123095989227295\n",
      "0.2122906893491745\n"
     ]
    }
   ],
   "source": [
    "X = XY[:,:2].float()\n",
    "Y = XY[:,2].float()\n",
    "for epoch in range(100000):\n",
    "    optimizer.zero_grad()  \n",
    "    outputs = model(Variable(X))\n",
    "    loss = criterion(outputs,Variable(Y))\n",
    "    loss.backward()\n",
    "    #model.weight.grad.data[0][0] = 0\n",
    "    optimizer.step()\n",
    "    \n",
    "    if epoch%1000==0:  print(loss.data[0])\n",
    "    "
   ]
  },
  {
   "cell_type": "code",
   "execution_count": 149,
   "metadata": {
    "collapsed": false
   },
   "outputs": [],
   "source": [
    "y_pred = outputs.data\n",
    "#print((y_pred==(Y.byte())).float().mean())"
   ]
  },
  {
   "cell_type": "code",
   "execution_count": 150,
   "metadata": {
    "collapsed": false
   },
   "outputs": [
    {
     "data": {
      "text/plain": [
       "[<matplotlib.lines.Line2D at 0x7fde8d044ba8>]"
      ]
     },
     "execution_count": 150,
     "metadata": {},
     "output_type": "execute_result"
    },
    {
     "data": {
      "image/png": "[encoded data removed]",
      "text/plain": [
       "<matplotlib.figure.Figure at 0x7fde8d119940>"
      ]
     },
     "metadata": {},
     "output_type": "display_data"
    }
   ],
   "source": [
    "a = model[0].weight.data[0][0]\n",
    "b = model[0].weight.data[0][1]\n",
    "c = model[0].bias.data[0]\n",
    "a,b,c\n",
    "def getx(y):\n",
    "    return -(b*y+c)/a\n",
    "y1,y2 = 0,4\n",
    "x1,x2 = getx(y1),getx(y2)\n",
    "plt.plot(pos[:,0],pos[:,1], 'ro')\n",
    "plt.plot(neg[:,0],neg[:,1], 'bo')\n",
    "plt.plot([x1,x2],[y1,y2], 'g')"
   ]
  },
  {
   "cell_type": "code",
   "execution_count": 151,
   "metadata": {
    "collapsed": false
   },
   "outputs": [
    {
     "name": "stdout",
     "output_type": "stream",
     "text": [
      "acc 0.8955\n",
      "recall 0.792\n",
      "prec 0.9987389659520807\n"
     ]
    }
   ],
   "source": [
    "tp = (((Y==1)&(y_pred>0))).sum()\n",
    "fp = (((Y==-1)&(y_pred>0))).sum()\n",
    "fn = (((Y==1)&(y_pred<0))).sum()\n",
    "tn = (((Y==-1)&(y_pred<0))).sum()\n",
    "print(\"acc\",(tp+tn)/(len(Y)))\n",
    "print(\"recall\", (tp/(tp+fn)))\n",
    "print(\"prec\", tp/(tp+fp))"
   ]
  },
  {
   "cell_type": "code",
   "execution_count": 179,
   "metadata": {
    "collapsed": false
   },
   "outputs": [
    {
     "data": {
      "text/plain": [
       "Variable containing:\n",
       " 2\n",
       "[torch.FloatTensor of size 1]"
      ]
     },
     "execution_count": 179,
     "metadata": {},
     "output_type": "execute_result"
    }
   ],
   "source": [
    "lh(model(x),y).max()"
   ]
  },
  {
   "cell_type": "code",
   "execution_count": 180,
   "metadata": {
    "collapsed": false
   },
   "outputs": [],
   "source": [
    "def lh(fx,y):\n",
    "    return torch.clamp(1-y*fx,0)\n",
    "def l01(fx,y):\n",
    "     return ((y==1)*(fx<=0)) + ((y==-1)*(fx>0))\n",
    "def tp(fx,y):\n",
    "    return ((y==1)*(1-l01(fx,y))).float().sum()\n",
    "def fp(fx,y):\n",
    "    return ((y==-1)*(l01(fx,y))).float().sum()\n",
    "def tpl(fx,y):\n",
    "    return ((y==1).float()*(1-lh(fx,y))).sum()\n",
    "def fpu(fx,y):\n",
    "    return ((y==-1).float()*(lh(fx,y))).sum()\n",
    "def Lp(fx,y):\n",
    "    return ((y==1).float()*(lh(fx,y))).float().sum()\n",
    "def Ln(fx,y):\n",
    "    return ((y==-1).float()*(lh(fx,y))).float().sum()\n",
    "def Yp(y):\n",
    "    return (y==1).float().sum()\n",
    "def RatPg(fx,y,a):\n",
    "    return a * Ln(fx,y) + (1-a) * Lp(fx,y) - (1-a) * Yp(y)\n",
    "def RatP(fx,y,l,a):\n",
    "    return Lp(fx,y) + l * RatPg(fx,y,a)\n",
    "def PatR(fx,y,l,b):\n",
    "    return Ln(fx,y) + l * (b - 1 + (Lp(fx,y)/Yp(y)))"
   ]
  },
  {
   "cell_type": "code",
   "execution_count": 181,
   "metadata": {
    "collapsed": true
   },
   "outputs": [],
   "source": [
    "class PatRLoss(nn.Module):\n",
    "    def __init__(self, b):\n",
    "        super(PatRLoss, self).__init__()\n",
    "        self.b = b\n",
    "        self.l = nn.Parameter(torch.Tensor([0.1]))\n",
    "        #self.l = Variable(torch.Tensor([0.1]))\n",
    "\n",
    "    def forward(self, y_pred, y):\n",
    "        return PatR(y_pred, y, self.l, self.b)/len(y)\n"
   ]
  },
  {
   "cell_type": "code",
   "execution_count": 182,
   "metadata": {
    "collapsed": true
   },
   "outputs": [],
   "source": [
    "class RatPLoss(nn.Module):\n",
    "    def __init__(self, a):\n",
    "        super(RatPLoss, self).__init__()\n",
    "        self.a = a\n",
    "        self.l = nn.Parameter(torch.Tensor([1]))\n",
    "        #self.l = Variable(torch.Tensor([0.1]))\n",
    "\n",
    "    def forward(self, y_pred, y):\n",
    "        return RatP(y_pred, y, self.l, self.a)/len(y)\n"
   ]
  },
  {
   "cell_type": "code",
   "execution_count": 183,
   "metadata": {
    "collapsed": true
   },
   "outputs": [],
   "source": [
    "a = 0.8\n",
    "criterion = RatPLoss(a)#nn.SoftMarginLoss()"
   ]
  },
  {
   "cell_type": "code",
   "execution_count": 156,
   "metadata": {
    "collapsed": false
   },
   "outputs": [],
   "source": [
    "num_epochs = 600\n",
    "learning_rate = 0.001\n",
    "\n",
    "from torch import nn\n",
    "from torch.autograd import Variable\n",
    "\n",
    "#model = nn.Sequential(nn.Linear(2,1),nn.Sigmoid())\n",
    "#model = nn.Sequential(nn.Linear(2,1))\n",
    "\n",
    "# Loss and Optimizer\n",
    "#criterion = RatPLoss(0.4)#nn.SoftMarginLoss()\n",
    "\n",
    "optimizer = torch.optim.SGD(\n",
    "    list(model.parameters()) + list(criterion.parameters()), lr=learning_rate)  "
   ]
  },
  {
   "cell_type": "code",
   "execution_count": 184,
   "metadata": {
    "collapsed": false
   },
   "outputs": [
    {
     "name": "stdout",
     "output_type": "stream",
     "text": [
      "Variable containing:\n",
      " 6.7915\n",
      "[torch.FloatTensor of size 1]\n",
      " Variable containing:\n",
      " 332.9127\n",
      "[torch.FloatTensor of size 1]\n",
      " Variable containing:\n",
      " 200\n",
      "[torch.FloatTensor of size 1]\n",
      "\n"
     ]
    }
   ],
   "source": [
    "print((a)*Ln(model(x),y), (a)*Lp(model(x),y) , (1-a)*Yp(y))"
   ]
  },
  {
   "cell_type": "code",
   "execution_count": 185,
   "metadata": {
    "collapsed": false
   },
   "outputs": [
    {
     "data": {
      "text/plain": [
       "(Variable containing:\n",
       "  416.1408\n",
       " [torch.FloatTensor of size 1], Variable containing:\n",
       "  1000\n",
       " [torch.FloatTensor of size 1])"
      ]
     },
     "execution_count": 185,
     "metadata": {},
     "output_type": "execute_result"
    }
   ],
   "source": [
    "Lp(model(x),y),Yp(y)"
   ]
  },
  {
   "cell_type": "code",
   "execution_count": 88,
   "metadata": {
    "collapsed": false
   },
   "outputs": [
    {
     "data": {
      "text/plain": [
       "Variable containing:\n",
       " 493.2307\n",
       "[torch.FloatTensor of size 1]"
      ]
     },
     "execution_count": 88,
     "metadata": {},
     "output_type": "execute_result"
    }
   ],
   "source": [
    "RatPg(model(x),y,a)"
   ]
  },
  {
   "cell_type": "code",
   "execution_count": 174,
   "metadata": {
    "collapsed": false
   },
   "outputs": [
    {
     "data": {
      "text/plain": [
       "Variable containing:\n",
       " 5789.2466\n",
       "[torch.FloatTensor of size 1]"
      ]
     },
     "execution_count": 174,
     "metadata": {},
     "output_type": "execute_result"
    }
   ],
   "source": [
    "RatPg(model(x),y,a)"
   ]
  },
  {
   "cell_type": "code",
   "execution_count": 175,
   "metadata": {
    "collapsed": false
   },
   "outputs": [
    {
     "data": {
      "text/plain": [
       "Parameter containing:\n",
       " 5\n",
       "[torch.FloatTensor of size 1]"
      ]
     },
     "execution_count": 175,
     "metadata": {},
     "output_type": "execute_result"
    }
   ],
   "source": [
    "criterion.l"
   ]
  },
  {
   "cell_type": "code",
   "execution_count": 176,
   "metadata": {
    "collapsed": false,
    "scrolled": true
   },
   "outputs": [
    {
     "name": "stdout",
     "output_type": "stream",
     "text": [
      "0.1822669953107834\n",
      "0.18212448060512543\n",
      "0.18199418485164642\n",
      "0.1818723827600479\n",
      "0.181759774684906\n",
      "0.18165431916713715\n",
      "0.18155303597450256\n",
      "0.1814558357000351\n",
      "0.18136252462863922\n",
      "0.18127726018428802\n",
      "0.18119670450687408\n",
      "0.18111923336982727\n",
      "0.18104472756385803\n",
      "0.1809731125831604\n",
      "0.18090425431728363\n",
      "0.18084214627742767\n",
      "0.18078313767910004\n",
      "0.18072634935379028\n",
      "0.18067167699337006\n",
      "0.18062077462673187\n"
     ]
    }
   ],
   "source": [
    "X = XY[:,:2].float()\n",
    "Y = XY[:,2].float()\n",
    "x = Variable(X)\n",
    "y = Variable(Y)\n",
    "#criterion.l.data[0] = 0.5\n",
    "for epoch in range(20000):\n",
    "    optimizer.zero_grad()  \n",
    "    outputs = model(Variable(X))\n",
    "    loss = criterion(outputs,Variable(Y))\n",
    "    loss.backward()\n",
    "    #print(criterion.l)\n",
    "    #print(criterion.l.grad, model[0].weight.grad)\n",
    "    \n",
    "    criterion.l.grad.data *= -1\n",
    "    #model[0].weight.grad.data *= 0\n",
    "    #model.bias.grad.data *= 0\n",
    "    #criterion.l.grad.data *= -1\n",
    "    optimizer.step()\n",
    "    \n",
    "    \"\"\"\n",
    "    optimizer.zero_grad()  \n",
    "    outputs = model(Variable(X))\n",
    "    loss = criterion(outputs,Variable(Y))\n",
    "    loss.backward()\n",
    "    model[0].weight.grad.data *= 0\n",
    "    model[0].bias.grad.data *= 0\n",
    "    criterion.l.grad.data *= -1\n",
    "    optimizer.step()\n",
    "    \"\"\"\n",
    "    \n",
    "    \n",
    "    if epoch%1000==0:  print(loss.data[0])\n",
    "    #break\n",
    "    "
   ]
  },
  {
   "cell_type": "code",
   "execution_count": 173,
   "metadata": {
    "collapsed": false
   },
   "outputs": [
    {
     "data": {
      "text/plain": [
       "[<matplotlib.lines.Line2D at 0x7fde8ce6c048>]"
      ]
     },
     "execution_count": 173,
     "metadata": {},
     "output_type": "execute_result"
    },
    {
     "data": {
      "image/png": "[encoded data removed]",
      "text/plain": [
       "<matplotlib.figure.Figure at 0x7fde8cf2ec18>"
      ]
     },
     "metadata": {},
     "output_type": "display_data"
    }
   ],
   "source": [
    "a = model[0].weight.data[0][0]\n",
    "b = model[0].weight.data[0][1]\n",
    "c = model[0].bias.data[0]\n",
    "a,b,c\n",
    "def getx(y):\n",
    "    return -(b*y+c)/a\n",
    "y1,y2 = 0,4\n",
    "x1,x2 = getx(y1),getx(y2)\n",
    "plt.plot(pos[:,0],pos[:,1], 'ro')\n",
    "plt.plot(neg[:,0],neg[:,1], 'bo')\n",
    "plt.plot([x1,x2],[y1,y2], 'g')"
   ]
  },
  {
   "cell_type": "code",
   "execution_count": 43,
   "metadata": {
    "collapsed": false
   },
   "outputs": [
    {
     "data": {
      "text/plain": [
       "[<matplotlib.lines.Line2D at 0x7f75d0f37828>]"
      ]
     },
     "execution_count": 43,
     "metadata": {},
     "output_type": "execute_result"
    },
    {
     "data": {
      "image/png": "[encoded data removed]",
      "text/plain": [
       "<matplotlib.figure.Figure at 0x7f75d0fb7c18>"
      ]
     },
     "metadata": {},
     "output_type": "display_data"
    }
   ],
   "source": [
    "a = model[0].weight.data[0][0]\n",
    "b = model[0].weight.data[0][1]\n",
    "c = model[0].bias.data[0]\n",
    "a,b,c\n",
    "def getx(y):\n",
    "    return -(b*y+c)/a\n",
    "y1,y2 = 0,4\n",
    "x1,x2 = getx(y1),getx(y2)\n",
    "plt.plot(pos[:,0],pos[:,1], 'ro')\n",
    "plt.plot(neg[:,0],neg[:,1], 'bo')\n",
    "plt.plot([x1,x2],[y1,y2], 'g')"
   ]
  },
  {
   "cell_type": "code",
   "execution_count": 48,
   "metadata": {
    "collapsed": true
   },
   "outputs": [],
   "source": [
    "def prec(fx,y):\n",
    "    return tp(fx,y)/(tp(fx,y)+fp(fx,y))\n",
    "def rec(fx,y):\n",
    "    return tp(fx,y)/Yp(y)"
   ]
  },
  {
   "cell_type": "code",
   "execution_count": 49,
   "metadata": {
    "collapsed": false
   },
   "outputs": [
    {
     "data": {
      "text/plain": [
       "(Variable containing:\n",
       "  0.7953\n",
       " [torch.FloatTensor of size 1], Variable containing:\n",
       "  0.9210\n",
       " [torch.FloatTensor of size 1])"
      ]
     },
     "execution_count": 49,
     "metadata": {},
     "output_type": "execute_result"
    }
   ],
   "source": [
    "prec(model(x),y), rec(model(x),y)"
   ]
  },
  {
   "cell_type": "code",
   "execution_count": 48,
   "metadata": {
    "collapsed": false
   },
   "outputs": [
    {
     "data": {
      "text/plain": [
       "(Variable containing:\n",
       "  0.7745\n",
       " [torch.FloatTensor of size 1], Variable containing:\n",
       "  0.9170\n",
       " [torch.FloatTensor of size 1])"
      ]
     },
     "execution_count": 48,
     "metadata": {},
     "output_type": "execute_result"
    }
   ],
   "source": [
    "prec(model(x),y), rec(model(x),y)"
   ]
  },
  {
   "cell_type": "code",
   "execution_count": null,
   "metadata": {
    "collapsed": false
   },
   "outputs": [],
   "source": [
    "x = Variable(X)\n",
    "y = Variable(Y)\n",
    "l = Variable(torch.Tensor([0.1]))\n",
    "f = model"
   ]
  },
  {
   "cell_type": "code",
   "execution_count": null,
   "metadata": {
    "collapsed": false
   },
   "outputs": [],
   "source": [
    "RatP(f(x),y,l,0.5)"
   ]
  },
  {
   "cell_type": "code",
   "execution_count": null,
   "metadata": {
    "collapsed": false
   },
   "outputs": [],
   "source": [
    "PatR(f(x),y,l,2)"
   ]
  },
  {
   "cell_type": "code",
   "execution_count": null,
   "metadata": {
    "collapsed": false
   },
   "outputs": [],
   "source": [
    "tp(f,x,y)"
   ]
  },
  {
   "cell_type": "code",
   "execution_count": null,
   "metadata": {
    "collapsed": false
   },
   "outputs": [],
   "source": [
    "tpl(f,x,y)"
   ]
  },
  {
   "cell_type": "code",
   "execution_count": null,
   "metadata": {
    "collapsed": false
   },
   "outputs": [],
   "source": [
    "fp(f,x,y)"
   ]
  },
  {
   "cell_type": "code",
   "execution_count": null,
   "metadata": {
    "collapsed": false
   },
   "outputs": [],
   "source": [
    "fpu(f,x,y)"
   ]
  },
  {
   "cell_type": "code",
   "execution_count": null,
   "metadata": {
    "collapsed": false
   },
   "outputs": [],
   "source": [
    "Lp(f,x,y)"
   ]
  },
  {
   "cell_type": "code",
   "execution_count": null,
   "metadata": {
    "collapsed": false
   },
   "outputs": [],
   "source": [
    "Ln(f,x,y)"
   ]
  },
  {
   "cell_type": "code",
   "execution_count": null,
   "metadata": {
    "collapsed": true
   },
   "outputs": [],
   "source": []
  }
 ],
 "metadata": {
  "kernelspec": {
   "display_name": "py3",
   "language": "python",
   "name": "py3"
  },
  "language_info": {
   "codemirror_mode": {
    "name": "ipython",
    "version": 3
   },
   "file_extension": ".py",
   "mimetype": "text/x-python",
   "name": "python",
   "nbconvert_exporter": "python",
   "pygments_lexer": "ipython3",
   "version": "3.5.2"
  }
 },
 "nbformat": 4,
 "nbformat_minor": 1
}
